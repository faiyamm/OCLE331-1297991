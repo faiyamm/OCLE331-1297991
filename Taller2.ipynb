{
  "nbformat": 4,
  "nbformat_minor": 0,
  "metadata": {
    "colab": {
      "provenance": [],
      "authorship_tag": "ABX9TyOSqA5f8JOcW8k57gEUUqA4",
      "include_colab_link": true
    },
    "kernelspec": {
      "name": "python3",
      "display_name": "Python 3"
    },
    "language_info": {
      "name": "python"
    }
  },
  "cells": [
    {
      "cell_type": "markdown",
      "metadata": {
        "id": "view-in-github",
        "colab_type": "text"
      },
      "source": [
        "<a href=\"https://colab.research.google.com/github/faiyamm/OCLE331/blob/main/Taller2.ipynb\" target=\"_parent\"><img src=\"https://colab.research.google.com/assets/colab-badge.svg\" alt=\"Open In Colab\"/></a>"
      ]
    },
    {
      "cell_type": "code",
      "execution_count": 2,
      "metadata": {
        "colab": {
          "base_uri": "https://localhost:8080/"
        },
        "id": "dlp6DPhFATH8",
        "outputId": "77f35de2-15a1-45b6-85a8-5c15d0c10742"
      },
      "outputs": [
        {
          "output_type": "stream",
          "name": "stdout",
          "text": [
            "Reading package lists... Done\n",
            "Building dependency tree... Done\n",
            "Reading state information... Done\n",
            "The following NEW packages will be installed:\n",
            "  nasm\n",
            "0 upgraded, 1 newly installed, 0 to remove and 35 not upgraded.\n",
            "Need to get 375 kB of archives.\n",
            "After this operation, 3,345 kB of additional disk space will be used.\n",
            "Get:1 http://archive.ubuntu.com/ubuntu jammy/universe amd64 nasm amd64 2.15.05-1 [375 kB]\n",
            "Fetched 375 kB in 0s (1,140 kB/s)\n",
            "debconf: unable to initialize frontend: Dialog\n",
            "debconf: (No usable dialog-like program is installed, so the dialog based frontend cannot be used. at /usr/share/perl5/Debconf/FrontEnd/Dialog.pm line 78, <> line 1.)\n",
            "debconf: falling back to frontend: Readline\n",
            "debconf: unable to initialize frontend: Readline\n",
            "debconf: (This frontend requires a controlling tty.)\n",
            "debconf: falling back to frontend: Teletype\n",
            "dpkg-preconfigure: unable to re-open stdin: \n",
            "Selecting previously unselected package nasm.\n",
            "(Reading database ... 121749 files and directories currently installed.)\n",
            "Preparing to unpack .../nasm_2.15.05-1_amd64.deb ...\n",
            "Unpacking nasm (2.15.05-1) ...\n",
            "Setting up nasm (2.15.05-1) ...\n",
            "Processing triggers for man-db (2.10.2-1) ...\n"
          ]
        }
      ],
      "source": [
        "! sudo apt-get install -y nasm"
      ]
    },
    {
      "cell_type": "code",
      "source": [
        "! nasm -v"
      ],
      "metadata": {
        "colab": {
          "base_uri": "https://localhost:8080/"
        },
        "id": "04ovNHeNBnq-",
        "outputId": "08da5803-4822-4529-e090-d672ba91fbde"
      },
      "execution_count": 4,
      "outputs": [
        {
          "output_type": "stream",
          "name": "stdout",
          "text": [
            "NASM version 2.15.05\n"
          ]
        }
      ]
    },
    {
      "cell_type": "code",
      "source": [
        "! touch toUpper.asm"
      ],
      "metadata": {
        "id": "FKCHiGuoCfdm"
      },
      "execution_count": 5,
      "outputs": []
    },
    {
      "cell_type": "code",
      "source": [
        "! touch menu.c"
      ],
      "metadata": {
        "id": "Qx0sfStfCwTs"
      },
      "execution_count": 6,
      "outputs": []
    },
    {
      "cell_type": "code",
      "source": [
        "! touch Makefile"
      ],
      "metadata": {
        "id": "EEwtYfdUC2Yt"
      },
      "execution_count": 7,
      "outputs": []
    },
    {
      "cell_type": "code",
      "source": [
        "! make"
      ],
      "metadata": {
        "colab": {
          "base_uri": "https://localhost:8080/"
        },
        "id": "tA3k8Be4DKTR",
        "outputId": "9f45d4af-fbbb-4528-e1f3-8fd348b1b36b"
      },
      "execution_count": 8,
      "outputs": [
        {
          "output_type": "stream",
          "name": "stdout",
          "text": [
            "Compilando el codigo en C...\n",
            "gcc -c menu.c\n",
            "Ensamblando el código ensamblador...\n",
            "nasm -f elf64 -o toUpper.o toUpper.asm\n",
            "Enlazando los objetos para crear el ejecutable...\n",
            "gcc -o menu.bin menu.o toUpper.o\n"
          ]
        }
      ]
    },
    {
      "cell_type": "code",
      "source": [
        "! ./menu.bin"
      ],
      "metadata": {
        "colab": {
          "base_uri": "https://localhost:8080/"
        },
        "id": "V8AFNR9qDY67",
        "outputId": "2b9ea34d-8305-49ae-abcd-0eb265611462"
      },
      "execution_count": 9,
      "outputs": [
        {
          "output_type": "stream",
          "name": "stdout",
          "text": [
            "Menu de Conversion ASCII:\n",
            "1. Convertit minusculas a mayusculas\n",
            "2. Salir\n",
            "Seleccione una opcion: 1\n",
            "\n",
            "Ingrese la cadena a convertir: 1\n",
            "\n",
            "Resultado: 1\n",
            "\n",
            "Menu de Conversion ASCII:\n",
            "1. Convertit minusculas a mayusculas\n",
            "2. Salir\n",
            "Seleccione una opcion: 1\n",
            "\n",
            "Ingrese la cadena a convertir: Hola\n",
            "\n",
            "Resultado: HOLA\n",
            "\n",
            "Menu de Conversion ASCII:\n",
            "1. Convertit minusculas a mayusculas\n",
            "2. Salir\n",
            "Seleccione una opcion: ^C\n"
          ]
        }
      ]
    },
    {
      "cell_type": "code",
      "source": [
        "! make clean"
      ],
      "metadata": {
        "colab": {
          "base_uri": "https://localhost:8080/"
        },
        "id": "Mm5C2urUDzAd",
        "outputId": "36a5c6d3-3a22-431b-8c65-861de55177d9"
      },
      "execution_count": 10,
      "outputs": [
        {
          "output_type": "stream",
          "name": "stdout",
          "text": [
            "Limpiando archivos...\n",
            "rm -f menu.bin menu.o toUpper.o\n"
          ]
        }
      ]
    },
    {
      "cell_type": "code",
      "source": [
        "! make"
      ],
      "metadata": {
        "colab": {
          "base_uri": "https://localhost:8080/"
        },
        "id": "jmDWbyQTD3T0",
        "outputId": "997278f8-f76f-4974-da51-b17ba13db792"
      },
      "execution_count": 11,
      "outputs": [
        {
          "output_type": "stream",
          "name": "stdout",
          "text": [
            "Compilando el codigo en C...\n",
            "gcc -c menu.c\n",
            "Ensamblando el código ensamblador...\n",
            "nasm -f elf64 -o toUpper.o toUpper.asm\n",
            "Enlazando los objetos para crear el ejecutable...\n",
            "gcc -o menu.bin menu.o toUpper.o\n"
          ]
        }
      ]
    },
    {
      "cell_type": "code",
      "source": [
        "! ./menu.bin"
      ],
      "metadata": {
        "colab": {
          "base_uri": "https://localhost:8080/"
        },
        "id": "hzsqtIgTD5qB",
        "outputId": "6f2a5dce-b41c-484a-c1c5-0ad962b74d30"
      },
      "execution_count": 12,
      "outputs": [
        {
          "output_type": "stream",
          "name": "stdout",
          "text": [
            "Menu de Conversion ASCII:\n",
            "1. Convertir minusculas a mayusculas\n",
            "2. Salir\n",
            "Seleccione una opcion: 1\n",
            "\n",
            "Ingrese la cadena a convertir: HOLA MUNDO\n",
            "\n",
            "Resultado: HOLA MUNDO\n",
            "\n",
            "Menu de Conversion ASCII:\n",
            "1. Convertir minusculas a mayusculas\n",
            "2. Salir\n",
            "Seleccione una opcion: 1\n",
            "\n",
            "Ingrese la cadena a convertir: hola mundo\n",
            "\n",
            "Resultado: HOLA MUNDO\n",
            "\n",
            "Menu de Conversion ASCII:\n",
            "1. Convertir minusculas a mayusculas\n",
            "2. Salir\n",
            "Seleccione una opcion: 1\n",
            "\n",
            "Ingrese la cadena a convertir: hola mundoooooo\n",
            "\n",
            "Resultado: HOLA MUNDOOOOOO\n",
            "\n",
            "Menu de Conversion ASCII:\n",
            "1. Convertir minusculas a mayusculas\n",
            "2. Salir\n",
            "Seleccione una opcion: 2\n",
            "\n"
          ]
        }
      ]
    }
  ]
}